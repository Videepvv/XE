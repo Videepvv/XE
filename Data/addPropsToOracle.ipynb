{
 "cells": [
  {
   "cell_type": "code",
   "execution_count": 1,
   "metadata": {},
   "outputs": [],
   "source": [
    "import pandas as pd \n"
   ]
  },
  {
   "cell_type": "code",
   "execution_count": null,
   "metadata": {},
   "outputs": [
    {
     "ename": "SyntaxError",
     "evalue": "unexpected EOF while parsing (4006364547.py, line 75)",
     "output_type": "error",
     "traceback": [
      "\u001b[0;36m  Input \u001b[0;32mIn [2]\u001b[0;36m\u001b[0m\n\u001b[0;31m    mapped_df.sort_values(by=\"Utterance\").to_csv(f\"Group_{group:02d}/GROUP_{group:02d}_CG.csv\", index=False\u001b[0m\n\u001b[0m                                                                                                           ^\u001b[0m\n\u001b[0;31mSyntaxError\u001b[0m\u001b[0;31m:\u001b[0m unexpected EOF while parsing\n"
     ]
    }
   ],
   "source": [
    "import pandas as pd\n",
    "\n",
    "# Function to find overlap between two intervals\n",
    "def is_overlap(start1, end1, start2, end2):\n",
    "    return max(start1, start2) < min(end1, end2)\n",
    "for group in range(2,11):\n",
    "    print(group)\n",
    "    # Load the Oracle and CGA CSV files\n",
    "    oracle_path = f\"Group_{group:02}_Oracle.csv\"\n",
    "    cga_path = f\"Group_{group:02}_Oracle.csv\"\n",
    "\n",
    "    oracle_df = pd.read_csv(oracle_path)\n",
    "    cga_df = pd.read_csv(cga_path)\n",
    "\n",
    "    # Convert time stamps to float\n",
    "    oracle_df['Start'] = oracle_df['Start'].astype(float)\n",
    "    oracle_df['End'] = oracle_df['End'].astype(float)\n",
    "    cga_df['Begin Time - ss.msec'] = cga_df['Begin Time - ss.msec'].astype(float)\n",
    "    cga_df['End Time - ss.msec'] = cga_df['End Time - ss.msec'].astype(float)\n",
    "\n",
    "    # Create a new column in CGA for each Oracle column to be merged\n",
    "    for col in oracle_df.columns:\n",
    "        if col not in cga_df:\n",
    "            cga_df[col] = None\n",
    "\n",
    "    # Iterate through each row in CGA and check for overlap with Oracle rows\n",
    "    for index, cga_row in cga_df.iterrows():\n",
    "        cga_start = cga_row['Begin Time - ss.msec']\n",
    "        cga_end = cga_row['End Time - ss.msec']\n",
    "\n",
    "        for _, oracle_row in oracle_df.iterrows():\n",
    "            oracle_start = oracle_row['Start']\n",
    "            oracle_end = oracle_row['End']\n",
    "\n",
    "            # Check for overlap\n",
    "            if is_overlap(cga_start, cga_end, oracle_start, oracle_end):\n",
    "                # Merge Oracle row contents into CGA row\n",
    "                for col in oracle_df.columns:\n",
    "                    cga_df.at[index, col] = oracle_row[col]\n",
    "\n",
    "    # Save the modified CGA dataframe to a new CSV file\n",
    "    modified_cga_path = f'OracleWithLabels/{group:02d}.csv'\n",
    "    cga_df.to_csv(modified_cga_path, index=False)\n"
   ]
  },
  {
   "cell_type": "code",
   "execution_count": null,
   "metadata": {},
   "outputs": [],
   "source": []
  }
 ],
 "metadata": {
  "kernelspec": {
   "display_name": "gazeEnv",
   "language": "python",
   "name": "python3"
  },
  "language_info": {
   "codemirror_mode": {
    "name": "ipython",
    "version": 3
   },
   "file_extension": ".py",
   "mimetype": "text/x-python",
   "name": "python",
   "nbconvert_exporter": "python",
   "pygments_lexer": "ipython3",
   "version": "3.8.15"
  }
 },
 "nbformat": 4,
 "nbformat_minor": 2
}
